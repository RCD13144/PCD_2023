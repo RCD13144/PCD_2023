{
 "cells": [
  {
   "cell_type": "markdown",
   "id": "45cd80eb-e790-4443-bb57-5883d11717f5",
   "metadata": {},
   "source": [
    "# 3 / oct / 2023\n",
    "# Threads."
   ]
  },
  {
   "cell_type": "markdown",
   "id": "e75362fe-3a38-4766-9cd9-e6f2c643da81",
   "metadata": {},
   "source": [
    "### Import libs, manage threads"
   ]
  },
  {
   "cell_type": "code",
   "execution_count": 2,
   "id": "bcf9fa9a-396a-46ad-ac52-8b46a9e9c27d",
   "metadata": {},
   "outputs": [],
   "source": [
    "import threading as th"
   ]
  },
  {
   "cell_type": "code",
   "execution_count": 6,
   "id": "ce401ae9-0a89-476b-83c3-1dd51663b891",
   "metadata": {},
   "outputs": [
    {
     "data": {
      "text/plain": [
       "6"
      ]
     },
     "execution_count": 6,
     "metadata": {},
     "output_type": "execute_result"
    }
   ],
   "source": [
    "th.active_count()"
   ]
  },
  {
   "cell_type": "code",
   "execution_count": 15,
   "id": "c23250b9-ce3d-4937-8aab-49f85daf5e8e",
   "metadata": {},
   "outputs": [
    {
     "data": {
      "text/plain": [
       "[<_MainThread(MainThread, started 10640)>,\n",
       " <Thread(IOPub, started daemon 7332)>,\n",
       " <Heartbeat(Heartbeat, started daemon 13364)>,\n",
       " <ControlThread(Control, started daemon 7740)>,\n",
       " <HistorySavingThread(IPythonHistorySavingThread, started 4068)>,\n",
       " <ParentPollerWindows(Thread-4, started daemon 10476)>]"
      ]
     },
     "execution_count": 15,
     "metadata": {},
     "output_type": "execute_result"
    }
   ],
   "source": [
    "th.enumerate()"
   ]
  },
  {
   "cell_type": "markdown",
   "id": "179f8290-dda9-49b4-ba1a-b2c3ca89d12f",
   "metadata": {},
   "source": [
    "## Cuantos hilos puedo instanciar?"
   ]
  },
  {
   "cell_type": "code",
   "execution_count": null,
   "id": "1ee9cdb5-b316-4c23-9824-c42539e49ce9",
   "metadata": {},
   "outputs": [],
   "source": []
  },
  {
   "cell_type": "markdown",
   "id": "d8c35b48-d633-4dcd-bf65-82ec0734f200",
   "metadata": {},
   "source": [
    "### Import libs, manage process (cores)"
   ]
  },
  {
   "cell_type": "code",
   "execution_count": 13,
   "id": "691a75e0-9c1b-4f0b-a33e-58f2a32a63cc",
   "metadata": {},
   "outputs": [],
   "source": [
    "import multiprocessing as mp # Manage cores"
   ]
  },
  {
   "cell_type": "code",
   "execution_count": 14,
   "id": "6be2726f-bdb3-4930-8e1d-5b4314154f77",
   "metadata": {},
   "outputs": [
    {
     "data": {
      "text/plain": [
       "16"
      ]
     },
     "execution_count": 14,
     "metadata": {},
     "output_type": "execute_result"
    }
   ],
   "source": [
    "mp.cpu_count()"
   ]
  },
  {
   "cell_type": "code",
   "execution_count": null,
   "id": "bbd4c3f8-9092-4063-9281-92125bbdafb0",
   "metadata": {},
   "outputs": [],
   "source": [
    "th.current_thread().getName().pi"
   ]
  },
  {
   "cell_type": "code",
   "execution_count": 17,
   "id": "c027a7d7-f186-4e24-abc0-93dbf68ad299",
   "metadata": {},
   "outputs": [
    {
     "data": {
      "text/plain": [
       "<_MainProcess name='MainProcess' parent=None started>"
      ]
     },
     "execution_count": 17,
     "metadata": {},
     "output_type": "execute_result"
    }
   ],
   "source": [
    "mp.current_process()"
   ]
  },
  {
   "cell_type": "markdown",
   "id": "8d58fc3e-ca3e-4dc1-9aef-18274757f6c5",
   "metadata": {},
   "source": [
    "### Cual es mi interprete de Pyhton?"
   ]
  },
  {
   "cell_type": "code",
   "execution_count": 18,
   "id": "612b0880-701f-4239-8d98-c8885eed1d89",
   "metadata": {},
   "outputs": [
    {
     "name": "stdout",
     "output_type": "stream",
     "text": [
      "Python 3.11.5\n"
     ]
    }
   ],
   "source": [
    "! python3 --version"
   ]
  },
  {
   "cell_type": "code",
   "execution_count": 19,
   "id": "aeae5361-44e4-4333-9943-213c03e02eb7",
   "metadata": {},
   "outputs": [],
   "source": [
    "import platform as pt"
   ]
  },
  {
   "cell_type": "code",
   "execution_count": 20,
   "id": "eb5539cd-ab4c-4eed-a3b5-6829cb475c1c",
   "metadata": {},
   "outputs": [
    {
     "data": {
      "text/plain": [
       "'CPython'"
      ]
     },
     "execution_count": 20,
     "metadata": {},
     "output_type": "execute_result"
    }
   ],
   "source": [
    "pt.python_implementation()"
   ]
  },
  {
   "cell_type": "code",
   "execution_count": 21,
   "id": "93e64798-9785-45cb-8585-ea1bf6cfa184",
   "metadata": {},
   "outputs": [
    {
     "data": {
      "text/plain": [
       "'MSC v.1936 64 bit (AMD64)'"
      ]
     },
     "execution_count": 21,
     "metadata": {},
     "output_type": "execute_result"
    }
   ],
   "source": [
    "pt.python_compiler()"
   ]
  },
  {
   "cell_type": "markdown",
   "id": "9d54972d-3ec3-4b02-a397-869edd941b96",
   "metadata": {},
   "source": [
    "### Multiplicar 2 matrices"
   ]
  },
  {
   "cell_type": "code",
   "execution_count": 23,
   "id": "9f003bca-977f-4f0e-8d68-cc5ffc20f6cc",
   "metadata": {},
   "outputs": [
    {
     "data": {
      "text/plain": [
       "([1, 2, 3, 4], [4, 6, 7])"
      ]
     },
     "execution_count": 23,
     "metadata": {},
     "output_type": "execute_result"
    }
   ],
   "source": [
    "[1,2,3,4],[4,6,7]"
   ]
  }
 ],
 "metadata": {
  "kernelspec": {
   "display_name": "Python 3 (ipykernel)",
   "language": "python",
   "name": "python3"
  },
  "language_info": {
   "codemirror_mode": {
    "name": "ipython",
    "version": 3
   },
   "file_extension": ".py",
   "mimetype": "text/x-python",
   "name": "python",
   "nbconvert_exporter": "python",
   "pygments_lexer": "ipython3",
   "version": "3.11.5"
  }
 },
 "nbformat": 4,
 "nbformat_minor": 5
}
