{
 "cells": [
  {
   "cell_type": "code",
   "execution_count": 4,
   "id": "57484688-c574-4257-8eb4-a0e417ea41db",
   "metadata": {},
   "outputs": [
    {
     "name": "stdout",
     "output_type": "stream",
     "text": [
      "Defaulting to user installation because normal site-packages is not writeable\n",
      "Collecting python3-nmap\n",
      "  Downloading python3_nmap-1.6.0-py3-none-any.whl (26 kB)\n",
      "Collecting simplejson (from python3-nmap)\n",
      "  Downloading simplejson-3.19.1-cp311-cp311-win_amd64.whl (75 kB)\n",
      "     ---------------------------------------- 0.0/75.3 kB ? eta -:--:--\n",
      "     --------------- ---------------------- 30.7/75.3 kB 660.6 kB/s eta 0:00:01\n",
      "     ---------------------------------------- 75.3/75.3 kB 1.0 MB/s eta 0:00:00\n",
      "Installing collected packages: simplejson, python3-nmap\n",
      "Successfully installed python3-nmap-1.6.0 simplejson-3.19.1\n"
     ]
    }
   ],
   "source": [
    "!pip  install python3-nmap"
   ]
  },
  {
   "cell_type": "code",
   "execution_count": 5,
   "id": "ab3c3734-83e1-4992-a6b4-0c49bfd5b50a",
   "metadata": {},
   "outputs": [
    {
     "ename": "SyntaxError",
     "evalue": "invalid syntax (465662966.py, line 1)",
     "output_type": "error",
     "traceback": [
      "\u001b[1;36m  Cell \u001b[1;32mIn[5], line 1\u001b[1;36m\u001b[0m\n\u001b[1;33m    import python3-nmap\u001b[0m\n\u001b[1;37m                  ^\u001b[0m\n\u001b[1;31mSyntaxError\u001b[0m\u001b[1;31m:\u001b[0m invalid syntax\n"
     ]
    }
   ],
   "source": [
    "import python3-nmap"
   ]
  },
  {
   "cell_type": "code",
   "execution_count": 6,
   "id": "bfa92a92-0390-4d28-b928-78b577fd6a6f",
   "metadata": {},
   "outputs": [],
   "source": [
    "import nmap3 as map"
   ]
  },
  {
   "cell_type": "code",
   "execution_count": 7,
   "id": "024d11ec-5226-4fd8-ac81-e31dec74a031",
   "metadata": {},
   "outputs": [],
   "source": [
    "import nmap3"
   ]
  },
  {
   "cell_type": "code",
   "execution_count": null,
   "id": "6556adea-f989-4c7a-850b-482264eaf020",
   "metadata": {},
   "outputs": [],
   "source": []
  }
 ],
 "metadata": {
  "kernelspec": {
   "display_name": "Python 3 (ipykernel)",
   "language": "python",
   "name": "python3"
  },
  "language_info": {
   "codemirror_mode": {
    "name": "ipython",
    "version": 3
   },
   "file_extension": ".py",
   "mimetype": "text/x-python",
   "name": "python",
   "nbconvert_exporter": "python",
   "pygments_lexer": "ipython3",
   "version": "3.11.5"
  }
 },
 "nbformat": 4,
 "nbformat_minor": 5
}
