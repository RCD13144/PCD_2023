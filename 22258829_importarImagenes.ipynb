{
 "cells": [
  {
   "cell_type": "markdown",
   "id": "d6944e31-ce3d-484a-8233-8c1156cfa88e",
   "metadata": {},
   "source": [
    "# Importar imagenes externas de internet"
   ]
  },
  {
   "cell_type": "code",
   "execution_count": null,
   "id": "608c5120-383d-4486-891c-f5110ad3cf9f",
   "metadata": {},
   "outputs": [],
   "source": [
    "import os, threading as th, time, urllib.request as rq, concurrent as ct, IPython as IP"
   ]
  },
  {
   "cell_type": "code",
   "execution_count": 5,
   "id": "6a0872c6-5b5c-4c0e-b430-2b260b525a5b",
   "metadata": {},
   "outputs": [
    {
     "name": "stdin",
     "output_type": "stream",
     "text": [
      "number 01\n"
     ]
    }
   ],
   "source": [
    "img=int(input(\"number\")) #desde donde quiere empezar a leer la lista de imagenes o videos"
   ]
  },
  {
   "cell_type": "code",
   "execution_count": 6,
   "id": "79510d6c-0ea8-4435-a8e1-24bd00898321",
   "metadata": {},
   "outputs": [],
   "source": [
    "img_url = 'https://storage.googleapis.com/christian_vladimir_sucuzhanay_bucket/pictures_videos/pic{:03d}.jpeg'.format(img)"
   ]
  },
  {
   "cell_type": "code",
   "execution_count": 7,
   "id": "e2adbf24-15f9-4841-afda-421fe743f3b1",
   "metadata": {},
   "outputs": [
    {
     "data": {
      "text/plain": [
       "'https://storage.googleapis.com/christian_vladimir_sucuzhanay_bucket/pictures_videos/pic001.jpeg'"
      ]
     },
     "execution_count": 7,
     "metadata": {},
     "output_type": "execute_result"
    }
   ],
   "source": [
    "img_url"
   ]
  },
  {
   "cell_type": "code",
   "execution_count": 8,
   "id": "9997ea20-f290-4798-9564-0e62e9ee29c2",
   "metadata": {},
   "outputs": [],
   "source": [
    "a_url=["
   ]
  },
  {
   "cell_type": "code",
   "execution_count": 22,
   "id": "66ce6f5b-e41c-4990-b4f1-71a91138b0c4",
   "metadata": {},
   "outputs": [
    {
     "name": "stdout",
     "output_type": "stream",
     "text": [
      "https://storage.cloud.google.com/pcd-images-threads/IMG_3727.jpeg.\n",
      "https://storage.cloud.google.com/pcd-images-threads/IMG_3728.jpeg.\n",
      "https://storage.cloud.google.com/pcd-images-threads/IMG_3729.jpeg.\n",
      "https://storage.cloud.google.com/pcd-images-threads/IMG_3730.jpeg.\n",
      "https://storage.cloud.google.com/pcd-images-threads/IMG_3731.jpeg.\n",
      "https://storage.cloud.google.com/pcd-images-threads/IMG_3732.jpeg.\n",
      "https://storage.cloud.google.com/pcd-images-threads/IMG_3733.jpeg.\n",
      "https://storage.cloud.google.com/pcd-images-threads/IMG_3734.jpeg.\n",
      "https://storage.cloud.google.com/pcd-images-threads/IMG_3735.jpeg.\n",
      "https://storage.cloud.google.com/pcd-images-threads/IMG_3736.jpeg.\n"
     ]
    }
   ],
   "source": [
    "for i in range(10):\n",
    "    img_uri = 'https://storage.cloud.google.com/pcd-images-threads/IMG_'+str(i + 3727) + '.jpeg.'\n",
    "    print(img_uri)\n",
    "    a_url.append(img_uri)"
   ]
  },
  {
   "cell_type": "code",
   "execution_count": 18,
   "id": "58000f24-b87b-43bd-9b5b-4490531512ce",
   "metadata": {},
   "outputs": [
    {
     "data": {
      "text/plain": [
       "['https://storage.googleapis.com/christian_vladimir_sucuzhanay_bucket/pictures_videos/pic000.jpeg.',\n",
       " 'https://storage.googleapis.com/christian_vladimir_sucuzhanay_bucket/pictures_videos/pic001.jpeg.',\n",
       " 'https://storage.googleapis.com/christian_vladimir_sucuzhanay_bucket/pictures_videos/pic002.jpeg.',\n",
       " 'https://storage.googleapis.com/christian_vladimir_sucuzhanay_bucket/pictures_videos/pic003.jpeg.',\n",
       " 'https://storage.googleapis.com/christian_vladimir_sucuzhanay_bucket/pictures_videos/pic004.jpeg.',\n",
       " 'https://storage.googleapis.com/christian_vladimir_sucuzhanay_bucket/pictures_videos/pic005.jpeg.',\n",
       " 'https://storage.googleapis.com/christian_vladimir_sucuzhanay_bucket/pictures_videos/pic006.jpeg.',\n",
       " 'https://storage.googleapis.com/christian_vladimir_sucuzhanay_bucket/pictures_videos/pic007.jpeg.',\n",
       " 'https://storage.googleapis.com/christian_vladimir_sucuzhanay_bucket/pictures_videos/pic008.jpeg.',\n",
       " 'https://storage.googleapis.com/christian_vladimir_sucuzhanay_bucket/pictures_videos/pic009.jpeg.',\n",
       " 'https://storage.googleapis.com/christian_vladimir_sucuzhanay_bucket/pictures_videos/pic000.jpeg.',\n",
       " 'https://storage.googleapis.com/christian_vladimir_sucuzhanay_bucket/pictures_videos/pic001.jpeg.',\n",
       " 'https://storage.googleapis.com/christian_vladimir_sucuzhanay_bucket/pictures_videos/pic002.jpeg.',\n",
       " 'https://storage.googleapis.com/christian_vladimir_sucuzhanay_bucket/pictures_videos/pic003.jpeg.',\n",
       " 'https://storage.googleapis.com/christian_vladimir_sucuzhanay_bucket/pictures_videos/pic004.jpeg.',\n",
       " 'https://storage.googleapis.com/christian_vladimir_sucuzhanay_bucket/pictures_videos/pic005.jpeg.',\n",
       " 'https://storage.googleapis.com/christian_vladimir_sucuzhanay_bucket/pictures_videos/pic006.jpeg.',\n",
       " 'https://storage.googleapis.com/christian_vladimir_sucuzhanay_bucket/pictures_videos/pic007.jpeg.',\n",
       " 'https://storage.googleapis.com/christian_vladimir_sucuzhanay_bucket/pictures_videos/pic008.jpeg.',\n",
       " 'https://storage.googleapis.com/christian_vladimir_sucuzhanay_bucket/pictures_videos/pic009.jpeg.',\n",
       " 'https://storage.googleapis.com/christian_vladimir_sucuzhanay_bucket/pictures_videos/pic000.jpeg.',\n",
       " 'https://storage.googleapis.com/christian_vladimir_sucuzhanay_bucket/pictures_videos/pic001.jpeg.',\n",
       " 'https://storage.googleapis.com/christian_vladimir_sucuzhanay_bucket/pictures_videos/pic002.jpeg.',\n",
       " 'https://storage.googleapis.com/christian_vladimir_sucuzhanay_bucket/pictures_videos/pic003.jpeg.',\n",
       " 'https://storage.googleapis.com/christian_vladimir_sucuzhanay_bucket/pictures_videos/pic004.jpeg.',\n",
       " 'https://storage.googleapis.com/christian_vladimir_sucuzhanay_bucket/pictures_videos/pic005.jpeg.',\n",
       " 'https://storage.googleapis.com/christian_vladimir_sucuzhanay_bucket/pictures_videos/pic006.jpeg.',\n",
       " 'https://storage.googleapis.com/christian_vladimir_sucuzhanay_bucket/pictures_videos/pic007.jpeg.',\n",
       " 'https://storage.googleapis.com/christian_vladimir_sucuzhanay_bucket/pictures_videos/pic008.jpeg.',\n",
       " 'https://storage.googleapis.com/christian_vladimir_sucuzhanay_bucket/pictures_videos/pic009.jpeg.',\n",
       " 'https://storage.googleapis.com/christian_vladimir_sucuzhanay_bucket/pictures_videos/pic000.jpeg.',\n",
       " 'https://storage.googleapis.com/christian_vladimir_sucuzhanay_bucket/pictures_videos/pic001.jpeg.',\n",
       " 'https://storage.googleapis.com/christian_vladimir_sucuzhanay_bucket/pictures_videos/pic002.jpeg.',\n",
       " 'https://storage.googleapis.com/christian_vladimir_sucuzhanay_bucket/pictures_videos/pic003.jpeg.',\n",
       " 'https://storage.googleapis.com/christian_vladimir_sucuzhanay_bucket/pictures_videos/pic004.jpeg.',\n",
       " 'https://storage.googleapis.com/christian_vladimir_sucuzhanay_bucket/pictures_videos/pic005.jpeg.',\n",
       " 'https://storage.googleapis.com/christian_vladimir_sucuzhanay_bucket/pictures_videos/pic006.jpeg.',\n",
       " 'https://storage.googleapis.com/christian_vladimir_sucuzhanay_bucket/pictures_videos/pic007.jpeg.',\n",
       " 'https://storage.googleapis.com/christian_vladimir_sucuzhanay_bucket/pictures_videos/pic008.jpeg.',\n",
       " 'https://storage.googleapis.com/christian_vladimir_sucuzhanay_bucket/pictures_videos/pic009.jpeg.']"
      ]
     },
     "execution_count": 18,
     "metadata": {},
     "output_type": "execute_result"
    }
   ],
   "source": [
    "a_url"
   ]
  },
  {
   "cell_type": "code",
   "execution_count": 20,
   "id": "c77c8a46-c2d2-4d29-99b7-9b6da374f610",
   "metadata": {},
   "outputs": [],
   "source": [
    "def seq_download_images(image_numbers):\n",
    "    total_bytes = 0\n",
    "    for num in image_numbers:\n",
    "        total_bytes += download_image(num)\n",
    "    return total_bytes"
   ]
  },
  {
   "cell_type": "code",
   "execution_count": null,
   "id": "94560c9b-f3fd-42f5-94e1-b0b517bec5b6",
   "metadata": {},
   "outputs": [],
   "source": []
  }
 ],
 "metadata": {
  "kernelspec": {
   "display_name": "Python 3 (ipykernel)",
   "language": "python",
   "name": "python3"
  },
  "language_info": {
   "codemirror_mode": {
    "name": "ipython",
    "version": 3
   },
   "file_extension": ".py",
   "mimetype": "text/x-python",
   "name": "python",
   "nbconvert_exporter": "python",
   "pygments_lexer": "ipython3",
   "version": "3.11.5"
  }
 },
 "nbformat": 4,
 "nbformat_minor": 5
}
