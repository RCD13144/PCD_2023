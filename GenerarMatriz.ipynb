{
 "cells": [
  {
   "cell_type": "markdown",
   "id": "3e74571f-80f0-476e-9e72-e4a69b87b907",
   "metadata": {},
   "source": [
    "#Generar una matriz a que tenga 300x300 que tendrá dentro números aleatorios de 0 al 222(3 primeros números de mi expediente)"
   ]
  },
  {
   "cell_type": "code",
   "execution_count": 9,
   "id": "9576ba9a-e8d1-4a45-b03b-5b8e12ae08c0",
   "metadata": {},
   "outputs": [],
   "source": [
    "for i in range (300):\n",
    "    for j in range (300):\n",
    "        a = [i,j]"
   ]
  },
  {
   "cell_type": "code",
   "execution_count": 7,
   "id": "b390ff7a-7978-49db-9c06-ea26fa96cfb6",
   "metadata": {},
   "outputs": [],
   "source": [
    "import random as rd"
   ]
  },
  {
   "cell_type": "code",
   "execution_count": 25,
   "id": "2b7abcf1-2911-4898-a802-0c1a16b0eb13",
   "metadata": {},
   "outputs": [],
   "source": [
    "A=[[rd.randint(0,223) for i in range(filA)] for j in range(colA)]"
   ]
  },
  {
   "cell_type": "code",
   "execution_count": 27,
   "id": "4098f5f0-080f-4b8f-b8e2-35b8cdf6c161",
   "metadata": {},
   "outputs": [],
   "source": [
    "B=[[rd.randint(0,223) for i in range (filB)] for j in range (colB)]"
   ]
  },
  {
   "cell_type": "code",
   "execution_count": 31,
   "id": "db9eefa2-525d-4471-8e0a-90c39558f137",
   "metadata": {},
   "outputs": [
    {
     "data": {
      "text/plain": [
       "10"
      ]
     },
     "execution_count": 31,
     "metadata": {},
     "output_type": "execute_result"
    }
   ],
   "source": [
    "len(A)"
   ]
  },
  {
   "cell_type": "code",
   "execution_count": 35,
   "id": "4be6ee71-ef1e-4fe8-b4ff-5289edb0edd8",
   "metadata": {},
   "outputs": [
    {
     "data": {
      "text/plain": [
       "20"
      ]
     },
     "execution_count": 35,
     "metadata": {},
     "output_type": "execute_result"
    }
   ],
   "source": [
    "len(B[0])"
   ]
  },
  {
   "cell_type": "code",
   "execution_count": 21,
   "id": "31b6f417-5f04-49b4-b64a-5b672f467727",
   "metadata": {},
   "outputs": [
    {
     "name": "stdout",
     "output_type": "stream",
     "text": [
      "La multiplicacion se ha hecho\n"
     ]
    }
   ],
   "source": [
    "if len(A[0]) == len(B):\n",
    "    print('La multiplicacion se ha hecho')\n",
    "else:\n",
    "    print('Tarugo, para multiplicar deben ser compatibles')"
   ]
  },
  {
   "cell_type": "code",
   "execution_count": 10,
   "id": "b35fb87b-f726-4311-9dfa-5f1e84e6ac26",
   "metadata": {},
   "outputs": [
    {
     "name": "stdin",
     "output_type": "stream",
     "text": [
      "Ingrese las filas de A : 200\n"
     ]
    }
   ],
   "source": [
    "filA = int(input('Ingrese las filas de A :'))"
   ]
  },
  {
   "cell_type": "code",
   "execution_count": 11,
   "id": "ceef6358-1d0c-4cb4-a4d4-275f8ac68eb2",
   "metadata": {},
   "outputs": [
    {
     "name": "stdin",
     "output_type": "stream",
     "text": [
      "Ingrese las columnas de A : 200\n"
     ]
    }
   ],
   "source": [
    "colA = int(input('Ingrese las columnas de A :'))"
   ]
  },
  {
   "cell_type": "code",
   "execution_count": 12,
   "id": "f7097a90-26db-40f6-9d45-c10943a03bc7",
   "metadata": {},
   "outputs": [
    {
     "name": "stdout",
     "output_type": "stream",
     "text": [
      "las dimensiones introducidas son : 200 200\n"
     ]
    }
   ],
   "source": [
    "print('las dimensiones introducidas son :',filA,colA )"
   ]
  },
  {
   "cell_type": "code",
   "execution_count": 13,
   "id": "5bd02f28-9df7-4a4f-848a-5c3db67c3aff",
   "metadata": {},
   "outputs": [
    {
     "name": "stdin",
     "output_type": "stream",
     "text": [
      "Ingrese las filas de B : 200\n"
     ]
    }
   ],
   "source": [
    "filB = int(input('Ingrese las filas de B :'))"
   ]
  },
  {
   "cell_type": "code",
   "execution_count": 14,
   "id": "3522d3d0-8542-4384-822a-69d174a71000",
   "metadata": {},
   "outputs": [
    {
     "name": "stdin",
     "output_type": "stream",
     "text": [
      "Ingrese las columnas de B 200\n"
     ]
    }
   ],
   "source": [
    "colB = int(input('Ingrese las columnas de B'))"
   ]
  },
  {
   "cell_type": "markdown",
   "id": "453927f8-9239-431c-a91e-afceeb5fbba6",
   "metadata": {},
   "source": [
    "## Multiplicacion secuencial, un \"Solo Core\""
   ]
  },
  {
   "cell_type": "code",
   "execution_count": 43,
   "id": "f0328bd1-3cf6-4ec5-9fd6-e407550dd90d",
   "metadata": {},
   "outputs": [],
   "source": [
    "def seq_mult(A,B):\n",
    "    C= [[0]*n_col_B for i in range(n_fil_A)]\n",
    "    for i in range(n_fil_A):\n",
    "        for j in range(n_col_B):\n",
    "            for k in range(n_col_A):\n",
    "                C[i][j]+=A[i][k]*B[k][j]\n",
    "    return C"
   ]
  },
  {
   "cell_type": "code",
   "execution_count": 55,
   "id": "9f49b274-b464-4f9e-9b8b-74a57e6a5128",
   "metadata": {},
   "outputs": [
    {
     "data": {
      "text/plain": [
       "[[32415299891635191,\n",
       "  24093009756950665,\n",
       "  22691744233798508,\n",
       "  33310362600601303,\n",
       "  31167130507750356,\n",
       "  19151784839483389,\n",
       "  24501338348391457,\n",
       "  34032671312571311,\n",
       "  26592351109024382,\n",
       "  37367308549125373,\n",
       "  32399728515290894,\n",
       "  33408490504054073,\n",
       "  20116581902024073,\n",
       "  28151086629211439,\n",
       "  28426181442023795,\n",
       "  24646516704662985],\n",
       " [27083679852641561,\n",
       "  23018444813495776,\n",
       "  20606274828380083,\n",
       "  25300783895169582,\n",
       "  24186615683341010,\n",
       "  16015611606320209,\n",
       "  20776843267133380,\n",
       "  29227880780538591,\n",
       "  24749717973533051,\n",
       "  30140163726441292,\n",
       "  27411945035509887,\n",
       "  24326175483469141,\n",
       "  17757386826678097,\n",
       "  22779015535241707,\n",
       "  23325778337348623,\n",
       "  23781165128661218],\n",
       " [35917918165199947,\n",
       "  26884817872810771,\n",
       "  24398709349142388,\n",
       "  35608662473770782,\n",
       "  34821028757542907,\n",
       "  23002975984172402,\n",
       "  26228269786061193,\n",
       "  38261037233833704,\n",
       "  30278498009226413,\n",
       "  40038696709830699,\n",
       "  35759184391179291,\n",
       "  33572788781055715,\n",
       "  21728667055332283,\n",
       "  29007456324869723,\n",
       "  33603627597650248,\n",
       "  27360846074232730],\n",
       " [21425843263493691,\n",
       "  15221643203285326,\n",
       "  15709688794351029,\n",
       "  21336811851990938,\n",
       "  21438754003550613,\n",
       "  15897677775517419,\n",
       "  14345096681180596,\n",
       "  20994909284544098,\n",
       "  16962695944723860,\n",
       "  24752680042862160,\n",
       "  20703864875650497,\n",
       "  23441804387843141,\n",
       "  13947892258416918,\n",
       "  17982110083821728,\n",
       "  15073604383133132,\n",
       "  16542123935039950],\n",
       " [31266173289674322,\n",
       "  22152581022678013,\n",
       "  18821638778220792,\n",
       "  30388981542172687,\n",
       "  27454830580893611,\n",
       "  20135288923440074,\n",
       "  23734386222532131,\n",
       "  34288521043652757,\n",
       "  26146053225241060,\n",
       "  33060631371338870,\n",
       "  31450212979327984,\n",
       "  26610544520464596,\n",
       "  14169710661088396,\n",
       "  26724508443359020,\n",
       "  25539543765981680,\n",
       "  17652455555745056],\n",
       " [35936214221190212,\n",
       "  28087187316916982,\n",
       "  26525283403757082,\n",
       "  37044083131269281,\n",
       "  34094979604233228,\n",
       "  20920340011350738,\n",
       "  27374463827033075,\n",
       "  38112823518538561,\n",
       "  30219866670097926,\n",
       "  41972365853673175,\n",
       "  34760689679236917,\n",
       "  36906483627453969,\n",
       "  23861316622962704,\n",
       "  30752298265996219,\n",
       "  31725184786156556,\n",
       "  29327698796329925],\n",
       " [21927926260926442,\n",
       "  13586903451212280,\n",
       "  15674432323210213,\n",
       "  21177817478796995,\n",
       "  20141378526439719,\n",
       "  14795194151383666,\n",
       "  13656923065808756,\n",
       "  20408921916541218,\n",
       "  16180541003455008,\n",
       "  25334453835192273,\n",
       "  20774231949868538,\n",
       "  23747447684009753,\n",
       "  13991653208025780,\n",
       "  15187957881133044,\n",
       "  14877140454469978,\n",
       "  16439196489763526],\n",
       " [22963220329499046,\n",
       "  16708652291655776,\n",
       "  14749461726883958,\n",
       "  21760489788856640,\n",
       "  22139438645763338,\n",
       "  20306882551126864,\n",
       "  9546074685077888,\n",
       "  21018411375114874,\n",
       "  19769485864804684,\n",
       "  26702402856735644,\n",
       "  22533025696717914,\n",
       "  22211462892498616,\n",
       "  12960435643779244,\n",
       "  13460075254278770,\n",
       "  20714102187456018,\n",
       "  21200232107449632],\n",
       " [23541176505639166,\n",
       "  18088222081706891,\n",
       "  17157324670129578,\n",
       "  21980391330220306,\n",
       "  19931853921860979,\n",
       "  15521059756879866,\n",
       "  15817452553920781,\n",
       "  23673951511317476,\n",
       "  20242291720915680,\n",
       "  26601220581243692,\n",
       "  23212451202222931,\n",
       "  22697307756191955,\n",
       "  13963016606486929,\n",
       "  18560786228868734,\n",
       "  16478847643447255,\n",
       "  18996810384950077],\n",
       " [22887313174562266,\n",
       "  18896391801722345,\n",
       "  16699211298665070,\n",
       "  25029970423753189,\n",
       "  20653672856732370,\n",
       "  13979586403679780,\n",
       "  18691736395574582,\n",
       "  25803305093046018,\n",
       "  19707330931941783,\n",
       "  26885239558765701,\n",
       "  20363525258145638,\n",
       "  23318598375247682,\n",
       "  13751353708011464,\n",
       "  22087432382826412,\n",
       "  17995036378212970,\n",
       "  15926501149635096],\n",
       " [16288710500004606,\n",
       "  15445416993440763,\n",
       "  10801334398173422,\n",
       "  15339971519486185,\n",
       "  13441348587708577,\n",
       "  10619311765419758,\n",
       "  10924017572835704,\n",
       "  18463186083325353,\n",
       "  16771186584994916,\n",
       "  17980730727131783,\n",
       "  16615172744526078,\n",
       "  11783385109371838,\n",
       "  8433505245492123,\n",
       "  12605308344823611,\n",
       "  17443385527668315,\n",
       "  15000634163452752],\n",
       " [23175777048294501,\n",
       "  19716138135443591,\n",
       "  20483278952947217,\n",
       "  23909116082231446,\n",
       "  23130221169061809,\n",
       "  13945827342554799,\n",
       "  17933844018300087,\n",
       "  23648961632050581,\n",
       "  19693508848868192,\n",
       "  28463458666344382,\n",
       "  21641959383100862,\n",
       "  27087695173097472,\n",
       "  19408582004094437,\n",
       "  21063520351724515,\n",
       "  17626047179029521,\n",
       "  22942068651923977],\n",
       " [22660249470868787,\n",
       "  14112853386664224,\n",
       "  15275115060178749,\n",
       "  18570769487230896,\n",
       "  20691317863218630,\n",
       "  14308125374781253,\n",
       "  17057738552371733,\n",
       "  23059357398173755,\n",
       "  17750593797758866,\n",
       "  22417219291369803,\n",
       "  24069934884949205,\n",
       "  18575039756439771,\n",
       "  13097770675679741,\n",
       "  16342943434234864,\n",
       "  16683823522983023,\n",
       "  14557230857663588],\n",
       " [29909281402302168,\n",
       "  20569354566872048,\n",
       "  20540585646830256,\n",
       "  28642996397550485,\n",
       "  27803506384335923,\n",
       "  17211957739920057,\n",
       "  25103332720018086,\n",
       "  31990099585554837,\n",
       "  23647600775478679,\n",
       "  31947432209414918,\n",
       "  30881677269563137,\n",
       "  28748112652844586,\n",
       "  17051591930882378,\n",
       "  27588483980435334,\n",
       "  21674716927369937,\n",
       "  18062259261038685],\n",
       " [30955941051676857,\n",
       "  24081159455009598,\n",
       "  22310554404685552,\n",
       "  27012133626599325,\n",
       "  30369931774819575,\n",
       "  19931042721187753,\n",
       "  25618136902864237,\n",
       "  35328631507783497,\n",
       "  27362481725758516,\n",
       "  30831018589152364,\n",
       "  30701578402517193,\n",
       "  22191073895987174,\n",
       "  20498244829395219,\n",
       "  23545661658978742,\n",
       "  30056045817884497,\n",
       "  23193783224334788],\n",
       " [15745116113589745,\n",
       "  15022261042142999,\n",
       "  11056058772384202,\n",
       "  15745290316156105,\n",
       "  13767129726836392,\n",
       "  9984045687772497,\n",
       "  10120523627472595,\n",
       "  17134073222329871,\n",
       "  15862300770721223,\n",
       "  18591797472196971,\n",
       "  16023746769359982,\n",
       "  13761076620297903,\n",
       "  9293460267470470,\n",
       "  12517250910405579,\n",
       "  17131370803090088,\n",
       "  16050475844850007]]"
      ]
     },
     "execution_count": 55,
     "metadata": {},
     "output_type": "execute_result"
    }
   ],
   "source": [
    "seq_mult(A,B)"
   ]
  },
  {
   "cell_type": "code",
   "execution_count": null,
   "id": "e6f53741-7c9c-4712-a194-d8f0205c1da6",
   "metadata": {},
   "outputs": [],
   "source": []
  },
  {
   "cell_type": "code",
   "execution_count": 11,
   "id": "e4d22e8e-d501-4296-b69b-23f78489e584",
   "metadata": {},
   "outputs": [],
   "source": [
    "import random as rd"
   ]
  },
  {
   "cell_type": "code",
   "execution_count": 48,
   "id": "3d4e19dd-374d-48b7-b473-408e591a741a",
   "metadata": {},
   "outputs": [],
   "source": [
    "A = [[rd.randint(1,99999999) for i in range(8)] for j in range(16)]"
   ]
  },
  {
   "cell_type": "code",
   "execution_count": 49,
   "id": "0814a4b2-5880-42e3-9c9e-0a207dd5eec0",
   "metadata": {},
   "outputs": [],
   "source": [
    "B = [[rd.randint(1,99999999) for i in range(16)] for j in range(8)]"
   ]
  },
  {
   "cell_type": "code",
   "execution_count": 51,
   "id": "94421df4-a31a-4498-ba7e-158e49d9365b",
   "metadata": {},
   "outputs": [],
   "source": [
    "n_col_A = len(A[0])"
   ]
  },
  {
   "cell_type": "code",
   "execution_count": 52,
   "id": "a3998a95-3bd9-47a5-b7f3-c6dfe9f97aaf",
   "metadata": {},
   "outputs": [],
   "source": [
    "n_col_B = len(B[0])"
   ]
  },
  {
   "cell_type": "code",
   "execution_count": 54,
   "id": "09021c90-07c1-4806-ac19-8f71c10b493b",
   "metadata": {},
   "outputs": [],
   "source": [
    "n_fil_A = len(A)"
   ]
  },
  {
   "cell_type": "code",
   "execution_count": 6,
   "id": "bdf55999-eacc-4f47-95b3-f1561cbcc507",
   "metadata": {},
   "outputs": [
    {
     "data": {
      "text/plain": [
       "[[1, 1, 1, 1, 1],\n",
       " [1, 1, 1, 1, 1],\n",
       " [1, 1, 1, 1, 1],\n",
       " [1, 1, 1, 1, 1],\n",
       " [1, 1, 1, 1, 1],\n",
       " [1, 1, 1, 1, 1],\n",
       " [1, 1, 1, 1, 1],\n",
       " [1, 1, 1, 1, 1],\n",
       " [1, 1, 1, 1, 1],\n",
       " [1, 1, 1, 1, 1]]"
      ]
     },
     "execution_count": 6,
     "metadata": {},
     "output_type": "execute_result"
    }
   ],
   "source": [
    "[[1]*5 for i in range(10)]"
   ]
  },
  {
   "cell_type": "markdown",
   "id": "5c1ca1d7-73b9-4a2f-b772-f5980922adf0",
   "metadata": {},
   "source": [
    "## Multiplicacion paralela \"con todos los Cores\""
   ]
  },
  {
   "cell_type": "code",
   "execution_count": 58,
   "id": "f50c645e-16b8-485c-806c-ec849939e8b9",
   "metadata": {},
   "outputs": [],
   "source": [
    "import multiprocessing as mp"
   ]
  },
  {
   "cell_type": "code",
   "execution_count": 1,
   "id": "bc695170-d05e-498b-99df-558aa1662917",
   "metadata": {},
   "outputs": [],
   "source": [
    "import math"
   ]
  },
  {
   "cell_type": "code",
   "execution_count": 59,
   "id": "c2ee2c51-6d8a-464e-aef8-9d243cab14d6",
   "metadata": {},
   "outputs": [],
   "source": [
    "cores = mp.cpu_count()"
   ]
  },
  {
   "cell_type": "code",
   "execution_count": 18,
   "id": "c0ad58a5-5cd4-47e2-9367-2f8e8b56d61a",
   "metadata": {},
   "outputs": [],
   "source": [
    "def par_mult():\n",
    "    num_cores = mp.cpu_count()\n",
    "    size_col = math.ceil(n_col_B/num_cores)\n",
    "    size_fil = math.ceil(n_fil_A/num_cores)\n",
    "    MC = RawArray('i',n_fil_A*n_col_B)\n",
    "    for core in range(num_cores):\n",
    "        i_MC = min(core*size_fil, n_fil_A)\n",
    "        f_MC = min((core+1)*size_fil, n_fil_A)\n",
    "        cores.append(mp.Process(target=par_core),args=(A,B,MC,i_MC,f_MC))\n",
    "    for core in cores:\n",
    "        core.start()\n",
    "    for core in cores:\n",
    "        core.join()\n",
    "    C_2D = [[0]*n_col_B for i in range(n_fil_A)]\n",
    "    for i in range(n_fil_A):\n",
    "        for j in range(n_col_B):\n",
    "            C_2D[i][j]+=MC[i*n_col_B+j]\n",
    "    return C_2D"
   ]
  },
  {
   "cell_type": "markdown",
   "id": "3d7a9bab-16c2-41eb-8965-627fec4fe210",
   "metadata": {},
   "source": [
    "## PAR CORE"
   ]
  },
  {
   "cell_type": "code",
   "execution_count": 9,
   "id": "736a9a8b-fe46-4a51-824d-e989d4be8a07",
   "metadata": {},
   "outputs": [],
   "source": [
    "def par_core(A,B,MC,i_MC,f_MC):\n",
    "    for i in range(i_MC,f_MC):\n",
    "        for j in range(len(A[0])):\n",
    "            for k in range(len(A[0])):\n",
    "                MC[i*len(B[0])+j] += A[i][jk*B[k][j]]"
   ]
  },
  {
   "cell_type": "markdown",
   "id": "7eb1bc8c-918a-4418-944b-b8899286ea65",
   "metadata": {},
   "source": [
    "## MAIN "
   ]
  },
  {
   "cell_type": "code",
   "execution_count": 17,
   "id": "2c623a65-a4b4-40b5-81f6-55cc73aafb74",
   "metadata": {},
   "outputs": [],
   "source": [
    "import random as rd\n",
    "import multiprocessing as mp"
   ]
  },
  {
   "cell_type": "code",
   "execution_count": 16,
   "id": "549e3069-0c6d-4467-8aa4-907343c97582",
   "metadata": {},
   "outputs": [],
   "source": [
    "A=[rd.randint(0,2225) for i in range(6)for i in range(222)]\n",
    "B=[rd.randint(0,2225) for i in range(222)for i in range(6)]"
   ]
  },
  {
   "cell_type": "code",
   "execution_count": null,
   "id": "edff9962-76d2-4dd3-a2ad-8e5534190df5",
   "metadata": {},
   "outputs": [],
   "source": [
    "n_fil_A=len(A)\n",
    "n_fil_B=len(B)\n",
    "n_col_A=len(A[0])\n",
    "n_col_B=len(B[0])\n",
    "if n_col_A != n_fil_B:\n",
    "    raise Exception(\"Tarugo, pon bien las dimensiones\")\n",
    "inicioS=time.time()\n",
    "seq_mult(A,B)\n"
   ]
  },
  {
   "cell_type": "code",
   "execution_count": 60,
   "id": "a1ef8b2f-3309-4672-b317-b9a66442b510",
   "metadata": {},
   "outputs": [
    {
     "data": {
      "text/plain": [
       "1.0"
      ]
     },
     "execution_count": 60,
     "metadata": {},
     "output_type": "execute_result"
    }
   ],
   "source": [
    "n_fil_A/cores"
   ]
  },
  {
   "cell_type": "code",
   "execution_count": 61,
   "id": "e2a4a37d-d9e4-4791-a7bf-3d8459c4565e",
   "metadata": {},
   "outputs": [
    {
     "data": {
      "text/plain": [
       "0.5"
      ]
     },
     "execution_count": 61,
     "metadata": {},
     "output_type": "execute_result"
    }
   ],
   "source": [
    "n_col_A/cores"
   ]
  },
  {
   "cell_type": "code",
   "execution_count": 62,
   "id": "3b9b17c9-263b-4168-b999-cad4a43a4127",
   "metadata": {},
   "outputs": [],
   "source": [
    "A = [[rd.randint(1,99999999) for i in range(9)] for j in range(16)]"
   ]
  },
  {
   "cell_type": "code",
   "execution_count": 63,
   "id": "0ab8ac4d-78a9-4676-9711-2d6491c1ec06",
   "metadata": {},
   "outputs": [],
   "source": [
    "B = [[rd.randint(1,99999999) for i in range(9)] for j in range(16)]"
   ]
  },
  {
   "cell_type": "code",
   "execution_count": null,
   "id": "49e60943-f9a0-40a3-8899-d61a9e38d5e6",
   "metadata": {},
   "outputs": [],
   "source": []
  }
 ],
 "metadata": {
  "kernelspec": {
   "display_name": "Python 3 (ipykernel)",
   "language": "python",
   "name": "python3"
  },
  "language_info": {
   "codemirror_mode": {
    "name": "ipython",
    "version": 3
   },
   "file_extension": ".py",
   "mimetype": "text/x-python",
   "name": "python",
   "nbconvert_exporter": "python",
   "pygments_lexer": "ipython3",
   "version": "3.11.5"
  }
 },
 "nbformat": 4,
 "nbformat_minor": 5
}
